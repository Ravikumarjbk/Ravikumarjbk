{
 "cells": [
  {
   "cell_type": "markdown",
   "id": "c52767e3-cb74-461f-b08a-f8a43522b74d",
   "metadata": {},
   "source": [
    "Q1> In Python, we can define custom exceptions by creating a new class that is derived from the built-in Exception class"
   ]
  },
  {
   "cell_type": "code",
   "execution_count": 13,
   "id": "f4085382-3304-4756-9919-77bb40530211",
   "metadata": {},
   "outputs": [],
   "source": [
    "#Q2>\n",
    "class InvalidAgeException(Exception):\n",
    "    pass"
   ]
  },
  {
   "cell_type": "code",
   "execution_count": 14,
   "id": "17e1bb9c-7f75-47a0-9e71-b3aabe0b38de",
   "metadata": {},
   "outputs": [],
   "source": [
    "number = 18 "
   ]
  },
  {
   "cell_type": "code",
   "execution_count": null,
   "id": "f9664399-b1fb-4f1f-bf49-ca39b4b143b0",
   "metadata": {},
   "outputs": [],
   "source": [
    "try:\n",
    "    age = int(input('enter your age'))\n",
    "    if age < number:\n",
    "        raise InvalidAgeException\n",
    "    else:\n",
    "        print('you are eligible for vote')\n",
    "except InvalidAgeException:\n",
    "    print('you are not eligible')"
   ]
  },
  {
   "cell_type": "markdown",
   "id": "f2873cb4-7c4c-4c89-8166-9cce56455da6",
   "metadata": {},
   "source": [
    "#Q3> ArithmeticError is simply an error that occurs during numeric calculations\n",
    "EX1: a = 5/0\n",
    "EX2:b = 1.2 - 1.0\n"
   ]
  },
  {
   "cell_type": "markdown",
   "id": "70fe0e40-3e26-4f34-8307-837d79739d28",
   "metadata": {},
   "source": [
    "#Q4> a = [1,2,3,4,5,6]\n",
    "try:\n",
    "    a = [1,2,3,4,5,6]\n",
    "    print(a[6])\n",
    "except IndexError as e:\n",
    "    print(e)\n"
   ]
  },
  {
   "cell_type": "markdown",
   "id": "2edefb3e-5a0e-47a6-9e69-aab4be4498d9",
   "metadata": {},
   "source": [
    "#Q5> when we try to import model in python file but python unable to find it then it throws (ModuleNotFoundError)"
   ]
  },
  {
   "cell_type": "markdown",
   "id": "979b0cc2-0c2a-4e44-a5f9-11194d689317",
   "metadata": {},
   "source": [
    "#Q6>python have several built in Exception\n",
    "ex: FileNotFoundError, ZeroDivisionError, IndexError\n",
    "try to catch the error in log file \n",
    "we "
   ]
  }
 ],
 "metadata": {
  "kernelspec": {
   "display_name": "Python 3 (ipykernel)",
   "language": "python",
   "name": "python3"
  },
  "language_info": {
   "codemirror_mode": {
    "name": "ipython",
    "version": 3
   },
   "file_extension": ".py",
   "mimetype": "text/x-python",
   "name": "python",
   "nbconvert_exporter": "python",
   "pygments_lexer": "ipython3",
   "version": "3.10.8"
  }
 },
 "nbformat": 4,
 "nbformat_minor": 5
}
